{
 "cells": [
  {
   "cell_type": "code",
   "execution_count": 85,
   "metadata": {},
   "outputs": [],
   "source": [
    "import pandas as pd  \n",
    "pd.options.mode.chained_assignment = None \n",
    "import os, json, time,calendar, re  "
   ]
  },
  {
   "cell_type": "code",
   "execution_count": 86,
   "metadata": {},
   "outputs": [
    {
     "ename": "FileNotFoundError",
     "evalue": "[WinError 3] The system cannot find the path specified: 'Data/cc'",
     "output_type": "error",
     "traceback": [
      "\u001b[1;31m---------------------------------------------------------------------------\u001b[0m",
      "\u001b[1;31mFileNotFoundError\u001b[0m                         Traceback (most recent call last)",
      "\u001b[1;32m<ipython-input-86-f66d231fe605>\u001b[0m in \u001b[0;36m<module>\u001b[1;34m\u001b[0m\n\u001b[1;32m----> 1\u001b[1;33m \u001b[0mfiles\u001b[0m \u001b[1;33m=\u001b[0m \u001b[0mos\u001b[0m\u001b[1;33m.\u001b[0m\u001b[0mlistdir\u001b[0m\u001b[1;33m(\u001b[0m\u001b[1;34m'Data/cc'\u001b[0m\u001b[1;33m)\u001b[0m\u001b[1;33m\u001b[0m\u001b[1;33m\u001b[0m\u001b[0m\n\u001b[0m\u001b[0;32m      2\u001b[0m \u001b[0mdf\u001b[0m \u001b[1;33m=\u001b[0m \u001b[0mpd\u001b[0m\u001b[1;33m.\u001b[0m\u001b[0mDataFrame\u001b[0m\u001b[1;33m(\u001b[0m\u001b[1;33m)\u001b[0m\u001b[1;33m\u001b[0m\u001b[1;33m\u001b[0m\u001b[0m\n\u001b[0;32m      3\u001b[0m \u001b[1;32mfor\u001b[0m \u001b[0mf\u001b[0m \u001b[1;32min\u001b[0m \u001b[0mfiles\u001b[0m\u001b[1;33m:\u001b[0m\u001b[1;33m\u001b[0m\u001b[1;33m\u001b[0m\u001b[0m\n\u001b[0;32m      4\u001b[0m     \u001b[0mdf1\u001b[0m \u001b[1;33m=\u001b[0m \u001b[0mpd\u001b[0m\u001b[1;33m.\u001b[0m\u001b[0mread_csv\u001b[0m\u001b[1;33m(\u001b[0m\u001b[1;34mf'Data/cc/{f}'\u001b[0m\u001b[1;33m)\u001b[0m\u001b[1;33m\u001b[0m\u001b[1;33m\u001b[0m\u001b[0m\n\u001b[0;32m      5\u001b[0m     \u001b[0mdf\u001b[0m \u001b[1;33m=\u001b[0m \u001b[0mpd\u001b[0m\u001b[1;33m.\u001b[0m\u001b[0mconcat\u001b[0m\u001b[1;33m(\u001b[0m\u001b[1;33m[\u001b[0m\u001b[0mdf1\u001b[0m\u001b[1;33m,\u001b[0m \u001b[0mdf\u001b[0m\u001b[1;33m]\u001b[0m\u001b[1;33m,\u001b[0m \u001b[0maxis\u001b[0m\u001b[1;33m=\u001b[0m\u001b[1;36m0\u001b[0m\u001b[1;33m,\u001b[0m \u001b[0mignore_index\u001b[0m\u001b[1;33m=\u001b[0m\u001b[1;32mTrue\u001b[0m\u001b[1;33m)\u001b[0m\u001b[1;33m\u001b[0m\u001b[1;33m\u001b[0m\u001b[0m\n",
      "\u001b[1;31mFileNotFoundError\u001b[0m: [WinError 3] The system cannot find the path specified: 'Data/cc'"
     ]
    }
   ],
   "source": [
    "files = os.listdir('Data/ccard') \n",
    "df = pd.DataFrame()\n",
    "for f in files:\n",
    "    df1 = pd.read_csv(f'Data/ccard/{f}')\n",
    "    df = pd.concat([df1, df], axis=0, ignore_index=True)   \n",
    "df = df.rename(columns ={'Transaction Date':'TransactionDate'}) \n",
    "df=df.loc[:, ['TransactionDate', 'Description', 'Category', 'Amount' ] ]\n",
    "df[0:2]"
   ]
  },
  {
   "cell_type": "code",
   "execution_count": null,
   "metadata": {
    "scrolled": true
   },
   "outputs": [],
   "source": [
    "df_ccard = df.drop_duplicates(subset=['TransactionDate','Description','Amount'], keep=\"first\")\n",
    "df_ccard.head(2)"
   ]
  },
  {
   "cell_type": "markdown",
   "metadata": {},
   "source": [
    "## Save Clean to new CSV"
   ]
  },
  {
   "cell_type": "code",
   "execution_count": null,
   "metadata": {},
   "outputs": [],
   "source": [
    "df = df_ccard\n",
    "df = df.loc[df['Amount'] < 0] \n",
    "df['Amount'] = df['Amount'].abs()\n",
    "# Set new column Day = the day extracted from Tranaction Date column\n",
    "df['Day'] = df['TransactionDate'].apply(lambda x: x.split('/')[1]) \n",
    "# Set new column Month = the month extracted from Tranaction Date column\n",
    "df['Month'] = df['TransactionDate'].apply(lambda x: x.split('/')[0]) \n",
    "# Set new column Year = the month extracted from Tranaction Date column\n",
    "df['Year'] = df['TransactionDate'].apply(lambda x: x.split('/')[2]) \n",
    "# Reorder Columns\n",
    "df = df.reindex(columns= ['TransactionDate', 'Year', 'Month', 'Day', 'Description', 'Category','Amount'])   \n",
    "df_ccard = df "
   ]
  },
  {
   "cell_type": "code",
   "execution_count": null,
   "metadata": {},
   "outputs": [],
   "source": [
    "df = df_ccard\n",
    "#save a clean csv && json\n",
    "df.to_csv('Data/df_ccard.csv', index=False) \n",
    "df.to_json('Data/df_ccard.json', orient='records')"
   ]
  },
  {
   "cell_type": "code",
   "execution_count": null,
   "metadata": {},
   "outputs": [],
   "source": [
    "files = os.listdir('Data/amazon') \n",
    "df = pd.DataFrame()\n",
    "for f in files:\n",
    "    df1 = pd.read_csv(f'Data/amazon/{f}')\n",
    "    df = pd.concat([df1, df], axis=0, ignore_index=True)   \n",
    "df = df.rename(columns ={'Order Date':'TransactionDate'\n",
    "                         ,'Item Total':'Amount'\n",
    "                         ,'Title':'Description'\n",
    "                        }) \n",
    "df=df.loc[:, ['TransactionDate', 'Description', 'Category', 'Amount' ] ]\n",
    "df[0:2]"
   ]
  },
  {
   "cell_type": "code",
   "execution_count": null,
   "metadata": {
    "scrolled": true
   },
   "outputs": [],
   "source": [
    "df_amazon = df.drop_duplicates(subset=['TransactionDate','Description','Amount'], keep=\"first\")\n",
    "df_amazon.head(2)"
   ]
  },
  {
   "cell_type": "code",
   "execution_count": null,
   "metadata": {},
   "outputs": [],
   "source": [
    "df=df_amazon\n",
    "df['Description']=df['Description'].fillna('')\n",
    "df['Amount'] = df['Amount'].apply(lambda x: x.replace('$','')).astype('float').abs() \n",
    "df['Day'] = df['TransactionDate'].apply(lambda x: x.split('/')[1])  \n",
    "df['Month'] = df['TransactionDate'].apply(lambda x: x.split('/')[0])  \n",
    "df['Year'] = df['TransactionDate'].apply(lambda x: x.split('/')[2])  \n",
    "df = df.reindex(columns= ['TransactionDate', 'Year', 'Month', 'Day', 'Description', 'Category','Amount'])   \n",
    "df"
   ]
  },
  {
   "cell_type": "code",
   "execution_count": null,
   "metadata": {},
   "outputs": [],
   "source": [
    "df.to_csv('Data/df_amazon.csv', index=False) \n",
    "df.to_json('Data/df_amazon.json', orient='records')"
   ]
  },
  {
   "cell_type": "code",
   "execution_count": null,
   "metadata": {},
   "outputs": [],
   "source": [
    "df.loc[df.Category.str.contains('Headphones', case=False, regex=False, na=False)] "
   ]
  },
  {
   "cell_type": "code",
   "execution_count": null,
   "metadata": {},
   "outputs": [],
   "source": []
  }
 ],
 "metadata": {
  "kernelspec": {
   "display_name": "Python 3",
   "language": "python",
   "name": "python3"
  },
  "language_info": {
   "codemirror_mode": {
    "name": "ipython",
    "version": 3
   },
   "file_extension": ".py",
   "mimetype": "text/x-python",
   "name": "python",
   "nbconvert_exporter": "python",
   "pygments_lexer": "ipython3",
   "version": "3.8.3"
  }
 },
 "nbformat": 4,
 "nbformat_minor": 4
}

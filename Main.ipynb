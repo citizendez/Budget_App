{
 "cells": [
  {
   "cell_type": "code",
   "execution_count": 15,
   "metadata": {},
   "outputs": [],
   "source": [
    "import pandas as pd  \n",
    "pd.options.mode.chained_assignment = None \n",
    "import os, json, time,calendar, re  "
   ]
  },
  {
   "cell_type": "code",
   "execution_count": 139,
   "metadata": {},
   "outputs": [],
   "source": [
    "dirs = [f.path.replace('\\\\','/').replace('Data/','') for f in os.scandir('Data') if f.is_dir()]\n",
    "with open('Static/js/datadirs.js', 'w') as f:\n",
    "    f.write(f'var datadirs = {str( dirs )};')\n"
   ]
  },
  {
   "cell_type": "code",
   "execution_count": 164,
   "metadata": {},
   "outputs": [],
   "source": [
    "def catReplace(c):\n",
    "    c=str(c)\n",
    "    if re.search('NUTRITION|TEA|SAUCE|SUGAR|DRINK|HERB|POPCORN|FLOUR|BREAD|SOUP|HONEY|CEREAL',c):\n",
    "        return 'GROCERY'\n",
    "    if re.search('PANTS|DRESS|SHIRT|BOOT|SHOES|HAT|SOCKS|WATCH|PAJAMAS|APPAREL|SWEATER',c):\n",
    "        return 'CLOTHES' \n",
    "    if re.search('SHAMPOO|HAIR|CONDITIONER|HEALTH_|EYELID_FLOSS|MEDICA',c): \n",
    "        return 'PERSONAL'  \n",
    "    if re.search('SKIN',c): \n",
    "        return 'SKIN'              \n",
    "    if re.search('MONITOR|POWER_BANK|BOOK|MOUSE_|_PEN|_MOUSE|HEADPHONE|_CABLE|BATTERY|FILE_|REMOTE_|AUTO_|POWER_',c): \n",
    "        return 'OFFICE'    \n",
    "    if re.search('OVEN|KITCHEN|_BAG|COOKER|COOKWARE|FOOD_|FRYER|WEIGH_SCALE',c): \n",
    "        return 'KITCHEN'  \n",
    "    if re.search('_HELMET|_PUMP|OUTDOOR_RECREATION_PRODUCT|BICYCLE_',c): \n",
    "        return 'BIKE' \n",
    "    if re.search('BATH|CLEANING_|UTDOOR_|_ADAPTER|STORAGE|BED_',c): \n",
    "        return 'HOME'  \n",
    "    if re.search('CRAFT_|PHONE|SCREEN_P|PET_|ANIMAL|LINT|_DEVICE|TOY|FABRIC|YARN',c): \n",
    "        return 'MISC'                                              \n",
    "    return c"
   ]
  },
  {
   "cell_type": "code",
   "execution_count": 168,
   "metadata": {},
   "outputs": [
    {
     "output_type": "execute_result",
     "data": {
      "text/plain": [
       "[    TransactionDate Year Month  \\\n",
       " 0          01/03/20   20    01   \n",
       " 1          01/12/20   20    01   \n",
       " 2          01/28/20   20    01   \n",
       " 3          01/09/20   20    01   \n",
       " 4          01/09/20   20    01   \n",
       " ..              ...  ...   ...   \n",
       " 257        01/29/21   21    01   \n",
       " 258        01/29/21   21    01   \n",
       " 259        01/29/21   21    01   \n",
       " 260        01/29/21   21    01   \n",
       " 261        01/05/21   21    01   \n",
       " \n",
       "                                            Description        Category  \\\n",
       " 0    Kernel Season's Popcorn Seasoning, Sour Cream ...         GROCERY   \n",
       " 1    Probiotics 60 Billion CFU - Dr. Approved Probi...         GROCERY   \n",
       " 2    Davidson's Tea Bulk, Herb Chamomile Flower, 16...         GROCERY   \n",
       " 3    wirarpa Women's High Waisted Cotton Underwear ...         CLOTHES   \n",
       " 4    Amazon Brand - Lark & Ro Women's Wide Leg Pont...         CLOTHES   \n",
       " ..                                                 ...             ...   \n",
       " 257  Brooklyn Botany Fractionated Coconut Oil for S...            SKIN   \n",
       " 258  Brooklyn Botany Castor Oil – 100% Pure and Col...            SKIN   \n",
       " 259  Solimo Moisturizing Coconut Milk and Jasmine N...            SKIN   \n",
       " 260  Joseph Joseph GoEat Compact Magnetic Salt and ...         KITCHEN   \n",
       " 261                            Group Gift Contribution  ABIS_GIFT_CARD   \n",
       " \n",
       "      Amount  AmountCatSum  AmountMonthSum  \n",
       " 0     11.88       1161.92          287.05  \n",
       " 1     18.45       1161.92          287.05  \n",
       " 2     13.54       1161.92          287.05  \n",
       " 3     24.37       1010.11          287.05  \n",
       " 4     37.10       1010.11          287.05  \n",
       " ..      ...           ...             ...  \n",
       " 257   14.79        240.59          173.67  \n",
       " 258   11.29        240.59          173.67  \n",
       " 259   17.92        240.59          173.67  \n",
       " 260    7.41        509.24          173.67  \n",
       " 261   50.00        150.00          173.67  \n",
       " \n",
       " [262 rows x 8 columns],\n",
       "      TransactionDate  Year Month             Description           Category  \\\n",
       " 0          1/19/2021  2021     1      Zipcar Toll JAN 07             Travel   \n",
       " 1           1/7/2021  2021     1   Zipcar JAN07 17763069             Travel   \n",
       " 2           1/4/2021  2021     1   Zipcar JAN07 17763069             Travel   \n",
       " 3          1/18/2021  2021     1      MOMIJI RESTAURANT.       Food & Drink   \n",
       " 4          1/17/2021  2021     1  PENN QUARTER SPORTS TA       Food & Drink   \n",
       " ...              ...   ...   ...                     ...                ...   \n",
       " 1103      07/27/2020  2020    07         HELP.HBOMAX.COM      Entertainment   \n",
       " 1104      07/08/2020  2020    07          7-ELEVEN 33452                Gas   \n",
       " 1105      07/22/2020  2020    07              CODECADEMY          Education   \n",
       " 1106      12/31/2019  2019    12          7-ELEVEN 33452                Gas   \n",
       " 1107      12/30/2019  2019    12    SMITHSONIANBUSVENT I  Gifts & Donations   \n",
       " \n",
       "       Amount  AmountCatSum  AmountMonthSum  \n",
       " 0       0.85      13384.12         3119.56  \n",
       " 1      14.60      13384.12         3119.56  \n",
       " 2      29.22      13384.12         3119.56  \n",
       " 3     112.36      10575.51         3119.56  \n",
       " 4      21.00      10575.51         3119.56  \n",
       " ...      ...           ...             ...  \n",
       " 1103   15.89        228.60         8682.42  \n",
       " 1104   10.50         67.25         8682.42  \n",
       " 1105  239.88       9556.82         8682.42  \n",
       " 1106    6.20         67.25           41.20  \n",
       " 1107   35.00         66.12           41.20  \n",
       " \n",
       " [1108 rows x 8 columns]]"
      ]
     },
     "metadata": {},
     "execution_count": 168
    }
   ],
   "source": [
    "def processDataDirectory(dir):\n",
    "    files = os.listdir(f'Data/{dir}') \n",
    "    df = pd.DataFrame()\n",
    "    for f in files:\n",
    "        df1 = pd.read_csv(f'Data/{dir}/{f}')\n",
    "        df = pd.concat([df1, df], axis=0, ignore_index=True)   \n",
    "    df = df.rename(columns ={\n",
    "                          'Order Date':'TransactionDate'\n",
    "                         ,'Transaction Date':'TransactionDate'\n",
    "                         ,'Item Total':'Amount'\n",
    "                         ,'Title':'Description'})  \n",
    "    df=df.loc[:, ['TransactionDate', 'Description', 'Category', 'Amount' ] ]\n",
    "    df=df.drop_duplicates(subset=['TransactionDate','Description','Amount'], keep=\"first\")\n",
    "    df['Description']=df['Description'].fillna('')\n",
    "    df['Amount'] = df['Amount'].apply(lambda x: str(x).replace('$',''))\n",
    "    df['Amount'] = df['Amount'].astype('float').abs()    \n",
    "    df['Month'] = df['TransactionDate'].apply(lambda x: x.split('/')[0])  \n",
    "    df['Year'] = df['TransactionDate'].apply(lambda x: x.split('/')[2])   \n",
    "    df['Category'] = df['Category'].apply(lambda c: catReplace(c) ) \n",
    "    \n",
    "    df = df.merge(\n",
    "        df.groupby('Category', as_index=False).sum()\n",
    "        , left_on='Category', right_on='Category', suffixes=('', 'CatSum'))\n",
    "\n",
    "    df = df.merge(\n",
    "        df.groupby(['Month', 'Year'], as_index=False).agg({'Amount': 'sum'}) \n",
    "        , left_on=['Month', 'Year'], right_on=['Month', 'Year'], suffixes=('', 'MonthSum'))\n",
    "  \n",
    "    #print( df )\n",
    "\n",
    "    df = df.reindex(columns= ['TransactionDate', 'Year', 'Month', 'Description', 'Category','Amount','AmountCatSum','AmountMonthSum']) \n",
    "    df['AmountCatSum'] = df['AmountCatSum'].astype('float')\n",
    "    df['AmountMonthSum'] = df['AmountMonthSum'].astype('float')\n",
    "    df.to_csv(f'Data/df_{dir}.csv', index=False) \n",
    "    df.to_json(f'Data/df_{dir}.json', orient='records')\n",
    "    return df\n",
    "\n",
    "[processDataDirectory(d) for d in dirs]\n",
    "\n"
   ]
  },
  {
   "cell_type": "code",
   "execution_count": null,
   "metadata": {},
   "outputs": [],
   "source": []
  },
  {
   "cell_type": "code",
   "execution_count": 17,
   "metadata": {},
   "outputs": [
    {
     "output_type": "execute_result",
     "data": {
      "text/plain": [
       "  TransactionDate         Description Category  Amount\n",
       "0       1/19/2021  Zipcar Toll JAN 07   Travel   -0.85\n",
       "1       1/19/2021  Zipcar Toll JAN 07   Travel   -0.85"
      ],
      "text/html": "<div>\n<style scoped>\n    .dataframe tbody tr th:only-of-type {\n        vertical-align: middle;\n    }\n\n    .dataframe tbody tr th {\n        vertical-align: top;\n    }\n\n    .dataframe thead th {\n        text-align: right;\n    }\n</style>\n<table border=\"1\" class=\"dataframe\">\n  <thead>\n    <tr style=\"text-align: right;\">\n      <th></th>\n      <th>TransactionDate</th>\n      <th>Description</th>\n      <th>Category</th>\n      <th>Amount</th>\n    </tr>\n  </thead>\n  <tbody>\n    <tr>\n      <th>0</th>\n      <td>1/19/2021</td>\n      <td>Zipcar Toll JAN 07</td>\n      <td>Travel</td>\n      <td>-0.85</td>\n    </tr>\n    <tr>\n      <th>1</th>\n      <td>1/19/2021</td>\n      <td>Zipcar Toll JAN 07</td>\n      <td>Travel</td>\n      <td>-0.85</td>\n    </tr>\n  </tbody>\n</table>\n</div>"
     },
     "metadata": {},
     "execution_count": 17
    }
   ],
   "source": [
    "files = os.listdir('Data/ccard') \n",
    "df = pd.DataFrame()\n",
    "for f in files:\n",
    "    df1 = pd.read_csv(f'Data/ccard/{f}')\n",
    "    df = pd.concat([df1, df], axis=0, ignore_index=True)   \n",
    "df = df.rename(columns ={'Transaction Date':'TransactionDate'}) \n",
    "df=df.loc[:, ['TransactionDate', 'Description', 'Category', 'Amount' ] ]\n",
    "df[0:2]"
   ]
  },
  {
   "cell_type": "code",
   "execution_count": 18,
   "metadata": {
    "scrolled": true
   },
   "outputs": [
    {
     "output_type": "execute_result",
     "data": {
      "text/plain": [
       "  TransactionDate         Description      Category  Amount\n",
       "0       1/19/2021  Zipcar Toll JAN 07        Travel   -0.85\n",
       "3       1/18/2021  MOMIJI RESTAURANT.  Food & Drink -112.36"
      ],
      "text/html": "<div>\n<style scoped>\n    .dataframe tbody tr th:only-of-type {\n        vertical-align: middle;\n    }\n\n    .dataframe tbody tr th {\n        vertical-align: top;\n    }\n\n    .dataframe thead th {\n        text-align: right;\n    }\n</style>\n<table border=\"1\" class=\"dataframe\">\n  <thead>\n    <tr style=\"text-align: right;\">\n      <th></th>\n      <th>TransactionDate</th>\n      <th>Description</th>\n      <th>Category</th>\n      <th>Amount</th>\n    </tr>\n  </thead>\n  <tbody>\n    <tr>\n      <th>0</th>\n      <td>1/19/2021</td>\n      <td>Zipcar Toll JAN 07</td>\n      <td>Travel</td>\n      <td>-0.85</td>\n    </tr>\n    <tr>\n      <th>3</th>\n      <td>1/18/2021</td>\n      <td>MOMIJI RESTAURANT.</td>\n      <td>Food &amp; Drink</td>\n      <td>-112.36</td>\n    </tr>\n  </tbody>\n</table>\n</div>"
     },
     "metadata": {},
     "execution_count": 18
    }
   ],
   "source": [
    "df_ccard = df.drop_duplicates(subset=['TransactionDate','Description','Amount'], keep=\"first\")\n",
    "df_ccard.head(2)"
   ]
  },
  {
   "cell_type": "markdown",
   "metadata": {},
   "source": [
    "## Save Clean to new CSV"
   ]
  },
  {
   "cell_type": "code",
   "execution_count": 19,
   "metadata": {},
   "outputs": [],
   "source": [
    "df = df_ccard\n",
    "df = df.loc[df['Amount'] < 0] \n",
    "df['Amount'] = df['Amount'].abs()\n",
    "# Set new column Day = the day extracted from Tranaction Date column\n",
    "df['Day'] = df['TransactionDate'].apply(lambda x: x.split('/')[1]) \n",
    "# Set new column Month = the month extracted from Tranaction Date column\n",
    "df['Month'] = df['TransactionDate'].apply(lambda x: x.split('/')[0]) \n",
    "# Set new column Year = the month extracted from Tranaction Date column\n",
    "df['Year'] = df['TransactionDate'].apply(lambda x: x.split('/')[2]) \n",
    "# Reorder Columns\n",
    "df = df.reindex(columns= ['TransactionDate', 'Year', 'Month', 'Day', 'Description', 'Category','Amount'])   \n",
    "df_ccard = df "
   ]
  },
  {
   "cell_type": "code",
   "execution_count": 20,
   "metadata": {},
   "outputs": [],
   "source": [
    "df = df_ccard\n",
    "#save a clean csv && json\n",
    "df.to_csv('Data/df_ccard.csv', index=False) \n",
    "df.to_json('Data/df_ccard.json', orient='records')"
   ]
  },
  {
   "cell_type": "code",
   "execution_count": 21,
   "metadata": {},
   "outputs": [
    {
     "output_type": "execute_result",
     "data": {
      "text/plain": [
       "  TransactionDate                                        Description  \\\n",
       "0        01/03/20  Kernel Season's Popcorn Seasoning, Sour Cream ...   \n",
       "1        01/09/20  wirarpa Women's High Waisted Cotton Underwear ...   \n",
       "\n",
       "     Category  Amount  \n",
       "0     GROCERY  $11.88  \n",
       "1  UNDERPANTS  $24.37  "
      ],
      "text/html": "<div>\n<style scoped>\n    .dataframe tbody tr th:only-of-type {\n        vertical-align: middle;\n    }\n\n    .dataframe tbody tr th {\n        vertical-align: top;\n    }\n\n    .dataframe thead th {\n        text-align: right;\n    }\n</style>\n<table border=\"1\" class=\"dataframe\">\n  <thead>\n    <tr style=\"text-align: right;\">\n      <th></th>\n      <th>TransactionDate</th>\n      <th>Description</th>\n      <th>Category</th>\n      <th>Amount</th>\n    </tr>\n  </thead>\n  <tbody>\n    <tr>\n      <th>0</th>\n      <td>01/03/20</td>\n      <td>Kernel Season's Popcorn Seasoning, Sour Cream ...</td>\n      <td>GROCERY</td>\n      <td>$11.88</td>\n    </tr>\n    <tr>\n      <th>1</th>\n      <td>01/09/20</td>\n      <td>wirarpa Women's High Waisted Cotton Underwear ...</td>\n      <td>UNDERPANTS</td>\n      <td>$24.37</td>\n    </tr>\n  </tbody>\n</table>\n</div>"
     },
     "metadata": {},
     "execution_count": 21
    }
   ],
   "source": [
    "files = os.listdir('Data/amazon') \n",
    "df = pd.DataFrame()\n",
    "for f in files:\n",
    "    df1 = pd.read_csv(f'Data/amazon/{f}')\n",
    "    df = pd.concat([df1, df], axis=0, ignore_index=True)   \n",
    "df = df.rename(columns ={'Order Date':'TransactionDate'\n",
    "                         ,'Trans':'TransactionDate'\n",
    "                         ,'Item Total':'Amount'\n",
    "                         ,'Title':'Description'\n",
    "                        }) \n",
    "df=df.loc[:, ['TransactionDate', 'Description', 'Category', 'Amount' ] ]\n",
    "df[0:2]"
   ]
  },
  {
   "cell_type": "code",
   "execution_count": 22,
   "metadata": {
    "scrolled": true
   },
   "outputs": [
    {
     "output_type": "execute_result",
     "data": {
      "text/plain": [
       "  TransactionDate                                        Description  \\\n",
       "0        01/03/20  Kernel Season's Popcorn Seasoning, Sour Cream ...   \n",
       "1        01/09/20  wirarpa Women's High Waisted Cotton Underwear ...   \n",
       "\n",
       "     Category  Amount  \n",
       "0     GROCERY  $11.88  \n",
       "1  UNDERPANTS  $24.37  "
      ],
      "text/html": "<div>\n<style scoped>\n    .dataframe tbody tr th:only-of-type {\n        vertical-align: middle;\n    }\n\n    .dataframe tbody tr th {\n        vertical-align: top;\n    }\n\n    .dataframe thead th {\n        text-align: right;\n    }\n</style>\n<table border=\"1\" class=\"dataframe\">\n  <thead>\n    <tr style=\"text-align: right;\">\n      <th></th>\n      <th>TransactionDate</th>\n      <th>Description</th>\n      <th>Category</th>\n      <th>Amount</th>\n    </tr>\n  </thead>\n  <tbody>\n    <tr>\n      <th>0</th>\n      <td>01/03/20</td>\n      <td>Kernel Season's Popcorn Seasoning, Sour Cream ...</td>\n      <td>GROCERY</td>\n      <td>$11.88</td>\n    </tr>\n    <tr>\n      <th>1</th>\n      <td>01/09/20</td>\n      <td>wirarpa Women's High Waisted Cotton Underwear ...</td>\n      <td>UNDERPANTS</td>\n      <td>$24.37</td>\n    </tr>\n  </tbody>\n</table>\n</div>"
     },
     "metadata": {},
     "execution_count": 22
    }
   ],
   "source": [
    "df_amazon = df.drop_duplicates(subset=['TransactionDate','Description','Amount'], keep=\"first\")\n",
    "df_amazon.head(2)"
   ]
  },
  {
   "cell_type": "code",
   "execution_count": 23,
   "metadata": {},
   "outputs": [
    {
     "output_type": "execute_result",
     "data": {
      "text/plain": [
       "    TransactionDate Year Month Day  \\\n",
       "0          01/03/20   20    01  03   \n",
       "1          01/09/20   20    01  09   \n",
       "2          01/09/20   20    01  09   \n",
       "3          01/09/20   20    01  09   \n",
       "4          01/09/20   20    01  09   \n",
       "..              ...  ...   ...  ..   \n",
       "258        01/22/21   21    01  22   \n",
       "259        01/29/21   21    01  29   \n",
       "260        01/29/21   21    01  29   \n",
       "261        01/29/21   21    01  29   \n",
       "262        01/29/21   21    01  29   \n",
       "\n",
       "                                           Description             Category  \\\n",
       "0    Kernel Season's Popcorn Seasoning, Sour Cream ...              GROCERY   \n",
       "1    wirarpa Women's High Waisted Cotton Underwear ...           UNDERPANTS   \n",
       "2    Neutrogena Nourishing Eyeliner Pencil, Built-i...         EYELID_COLOR   \n",
       "3    Amazon Brand - Lark & Ro Women's Wide Leg Pont...                PANTS   \n",
       "4    Women's Elegant Vintage Cotton Casual Floral P...                DRESS   \n",
       "..                                                 ...                  ...   \n",
       "258  EXPO 86661 Low-Odor Dry Erase Markers, Fine Po...          MARKING_PEN   \n",
       "259  Brooklyn Botany Fractionated Coconut Oil for S...     SKIN_MOISTURIZER   \n",
       "260  Brooklyn Botany Castor Oil – 100% Pure and Col...     SKIN_MOISTURIZER   \n",
       "261  Solimo Moisturizing Coconut Milk and Jasmine N...  SKIN_CLEANING_AGENT   \n",
       "262  Joseph Joseph GoEat Compact Magnetic Salt and ...          FOOD_SHAKER   \n",
       "\n",
       "     Amount  \n",
       "0     11.88  \n",
       "1     24.37  \n",
       "2      7.92  \n",
       "3     37.10  \n",
       "4     28.61  \n",
       "..      ...  \n",
       "258    4.73  \n",
       "259   14.79  \n",
       "260   11.29  \n",
       "261   17.92  \n",
       "262    7.41  \n",
       "\n",
       "[262 rows x 7 columns]"
      ],
      "text/html": "<div>\n<style scoped>\n    .dataframe tbody tr th:only-of-type {\n        vertical-align: middle;\n    }\n\n    .dataframe tbody tr th {\n        vertical-align: top;\n    }\n\n    .dataframe thead th {\n        text-align: right;\n    }\n</style>\n<table border=\"1\" class=\"dataframe\">\n  <thead>\n    <tr style=\"text-align: right;\">\n      <th></th>\n      <th>TransactionDate</th>\n      <th>Year</th>\n      <th>Month</th>\n      <th>Day</th>\n      <th>Description</th>\n      <th>Category</th>\n      <th>Amount</th>\n    </tr>\n  </thead>\n  <tbody>\n    <tr>\n      <th>0</th>\n      <td>01/03/20</td>\n      <td>20</td>\n      <td>01</td>\n      <td>03</td>\n      <td>Kernel Season's Popcorn Seasoning, Sour Cream ...</td>\n      <td>GROCERY</td>\n      <td>11.88</td>\n    </tr>\n    <tr>\n      <th>1</th>\n      <td>01/09/20</td>\n      <td>20</td>\n      <td>01</td>\n      <td>09</td>\n      <td>wirarpa Women's High Waisted Cotton Underwear ...</td>\n      <td>UNDERPANTS</td>\n      <td>24.37</td>\n    </tr>\n    <tr>\n      <th>2</th>\n      <td>01/09/20</td>\n      <td>20</td>\n      <td>01</td>\n      <td>09</td>\n      <td>Neutrogena Nourishing Eyeliner Pencil, Built-i...</td>\n      <td>EYELID_COLOR</td>\n      <td>7.92</td>\n    </tr>\n    <tr>\n      <th>3</th>\n      <td>01/09/20</td>\n      <td>20</td>\n      <td>01</td>\n      <td>09</td>\n      <td>Amazon Brand - Lark &amp; Ro Women's Wide Leg Pont...</td>\n      <td>PANTS</td>\n      <td>37.10</td>\n    </tr>\n    <tr>\n      <th>4</th>\n      <td>01/09/20</td>\n      <td>20</td>\n      <td>01</td>\n      <td>09</td>\n      <td>Women's Elegant Vintage Cotton Casual Floral P...</td>\n      <td>DRESS</td>\n      <td>28.61</td>\n    </tr>\n    <tr>\n      <th>...</th>\n      <td>...</td>\n      <td>...</td>\n      <td>...</td>\n      <td>...</td>\n      <td>...</td>\n      <td>...</td>\n      <td>...</td>\n    </tr>\n    <tr>\n      <th>258</th>\n      <td>01/22/21</td>\n      <td>21</td>\n      <td>01</td>\n      <td>22</td>\n      <td>EXPO 86661 Low-Odor Dry Erase Markers, Fine Po...</td>\n      <td>MARKING_PEN</td>\n      <td>4.73</td>\n    </tr>\n    <tr>\n      <th>259</th>\n      <td>01/29/21</td>\n      <td>21</td>\n      <td>01</td>\n      <td>29</td>\n      <td>Brooklyn Botany Fractionated Coconut Oil for S...</td>\n      <td>SKIN_MOISTURIZER</td>\n      <td>14.79</td>\n    </tr>\n    <tr>\n      <th>260</th>\n      <td>01/29/21</td>\n      <td>21</td>\n      <td>01</td>\n      <td>29</td>\n      <td>Brooklyn Botany Castor Oil – 100% Pure and Col...</td>\n      <td>SKIN_MOISTURIZER</td>\n      <td>11.29</td>\n    </tr>\n    <tr>\n      <th>261</th>\n      <td>01/29/21</td>\n      <td>21</td>\n      <td>01</td>\n      <td>29</td>\n      <td>Solimo Moisturizing Coconut Milk and Jasmine N...</td>\n      <td>SKIN_CLEANING_AGENT</td>\n      <td>17.92</td>\n    </tr>\n    <tr>\n      <th>262</th>\n      <td>01/29/21</td>\n      <td>21</td>\n      <td>01</td>\n      <td>29</td>\n      <td>Joseph Joseph GoEat Compact Magnetic Salt and ...</td>\n      <td>FOOD_SHAKER</td>\n      <td>7.41</td>\n    </tr>\n  </tbody>\n</table>\n<p>262 rows × 7 columns</p>\n</div>"
     },
     "metadata": {},
     "execution_count": 23
    }
   ],
   "source": [
    "df=df_amazon\n",
    "df['Description']=df['Description'].fillna('')\n",
    "df['Amount'] = df['Amount'].apply(lambda x: x.replace('$','')).astype('float').abs() \n",
    "df['Day'] = df['TransactionDate'].apply(lambda x: x.split('/')[1])  \n",
    "df['Month'] = df['TransactionDate'].apply(lambda x: x.split('/')[0])  \n",
    "df['Year'] = df['TransactionDate'].apply(lambda x: x.split('/')[2])  \n",
    "df = df.reindex(columns= ['TransactionDate', 'Year', 'Month', 'Day', 'Description', 'Category','Amount'])   \n",
    "df"
   ]
  },
  {
   "cell_type": "code",
   "execution_count": 10,
   "metadata": {},
   "outputs": [],
   "source": [
    "df.to_csv('Data/df_amazon.csv', index=False) \n",
    "df.to_json('Data/df_amazon.json', orient='records')"
   ]
  },
  {
   "cell_type": "code",
   "execution_count": 11,
   "metadata": {},
   "outputs": [
    {
     "output_type": "execute_result",
     "data": {
      "text/plain": [
       "    TransactionDate Year Month Day  \\\n",
       "41         03/12/20   20    03  12   \n",
       "151        08/19/20   20    08  19   \n",
       "197        10/21/20   20    10  21   \n",
       "198        10/21/20   20    10  21   \n",
       "\n",
       "                                           Description    Category  Amount  \n",
       "41   Paula's Choice Skin Perfecting 2% BHA Liquid S...  HEADPHONES   38.69  \n",
       "151  CUKOR Hot Plate,Electric Single Burner for Coo...  HEADPHONES   35.13  \n",
       "197  Earbuds Wired with Microphone Pack of 5, Noise...  HEADPHONES   12.71  \n",
       "198  Earbuds Headphones with Microphone 5 Pack, Ear...  HEADPHONES   12.71  "
      ],
      "text/html": "<div>\n<style scoped>\n    .dataframe tbody tr th:only-of-type {\n        vertical-align: middle;\n    }\n\n    .dataframe tbody tr th {\n        vertical-align: top;\n    }\n\n    .dataframe thead th {\n        text-align: right;\n    }\n</style>\n<table border=\"1\" class=\"dataframe\">\n  <thead>\n    <tr style=\"text-align: right;\">\n      <th></th>\n      <th>TransactionDate</th>\n      <th>Year</th>\n      <th>Month</th>\n      <th>Day</th>\n      <th>Description</th>\n      <th>Category</th>\n      <th>Amount</th>\n    </tr>\n  </thead>\n  <tbody>\n    <tr>\n      <th>41</th>\n      <td>03/12/20</td>\n      <td>20</td>\n      <td>03</td>\n      <td>12</td>\n      <td>Paula's Choice Skin Perfecting 2% BHA Liquid S...</td>\n      <td>HEADPHONES</td>\n      <td>38.69</td>\n    </tr>\n    <tr>\n      <th>151</th>\n      <td>08/19/20</td>\n      <td>20</td>\n      <td>08</td>\n      <td>19</td>\n      <td>CUKOR Hot Plate,Electric Single Burner for Coo...</td>\n      <td>HEADPHONES</td>\n      <td>35.13</td>\n    </tr>\n    <tr>\n      <th>197</th>\n      <td>10/21/20</td>\n      <td>20</td>\n      <td>10</td>\n      <td>21</td>\n      <td>Earbuds Wired with Microphone Pack of 5, Noise...</td>\n      <td>HEADPHONES</td>\n      <td>12.71</td>\n    </tr>\n    <tr>\n      <th>198</th>\n      <td>10/21/20</td>\n      <td>20</td>\n      <td>10</td>\n      <td>21</td>\n      <td>Earbuds Headphones with Microphone 5 Pack, Ear...</td>\n      <td>HEADPHONES</td>\n      <td>12.71</td>\n    </tr>\n  </tbody>\n</table>\n</div>"
     },
     "metadata": {},
     "execution_count": 11
    }
   ],
   "source": [
    "df.loc[df.Category.str.contains('Headphones', case=False, regex=False, na=False)] "
   ]
  },
  {
   "cell_type": "code",
   "execution_count": null,
   "metadata": {},
   "outputs": [],
   "source": []
  }
 ],
 "metadata": {
  "kernelspec": {
   "display_name": "Python 3",
   "language": "python",
   "name": "python3"
  },
  "language_info": {
   "codemirror_mode": {
    "name": "ipython",
    "version": 3
   },
   "file_extension": ".py",
   "mimetype": "text/x-python",
   "name": "python",
   "nbconvert_exporter": "python",
   "pygments_lexer": "ipython3",
   "version": "3.8.3-final"
  }
 },
 "nbformat": 4,
 "nbformat_minor": 4
}
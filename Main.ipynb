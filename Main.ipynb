{
 "cells": [
  {
   "cell_type": "code",
   "execution_count": null,
   "metadata": {},
   "outputs": [],
   "source": [
    "pip install pymysql"
   ]
  },
  {
   "cell_type": "code",
   "execution_count": null,
   "metadata": {},
   "outputs": [],
   "source": [
    "import pandas as pd  \n",
    "pd.options.mode.chained_assignment = None \n",
    "import os, json, time, calendar, re\n",
    "import pyodbc, pymysql    \n",
    "import mysql.connector\n",
    "import nltk\n",
    "from nltk.stem import PorterStemmer\n",
    "from nltk.corpus import stopwords\n",
    "from nltk.tokenize import word_tokenize\n",
    "\n",
    "from sqlalchemy import func, create_engine\n",
    "from config import remote_db_endpoint, remote_db_port, remote_db_name, remote_db_user, remote_db_pwd "
   ]
  },
  {
   "cell_type": "code",
   "execution_count": null,
   "metadata": {},
   "outputs": [],
   "source": [
    "\n",
    "mydb = mysql.connector.connect(  host=remote_db_endpoint,  user=remote_db_user,  password=remote_db_pwd,  database=remote_db_name) \n",
    "mycursor = mydb.cursor() \n",
    "sql=\"\"\"\n",
    "UPDATE ExpenseCategories \n",
    "  SET EC_PatternMapper='' \n",
    "  WHERE EC_PatternMapper IS NULL\n",
    "\"\"\"\n",
    "mycursor.execute(sql) \n",
    "mydb.commit() "
   ]
  },
  {
   "cell_type": "code",
   "execution_count": null,
   "metadata": {},
   "outputs": [],
   "source": [
    "connstr=f\"mysql://{remote_db_user}:{remote_db_pwd}@{remote_db_endpoint}:{remote_db_port}/{remote_db_name}\"\n",
    "pymysql.install_as_MySQLdb() "
   ]
  },
  {
   "cell_type": "code",
   "execution_count": null,
   "metadata": {},
   "outputs": [],
   "source": [
    "pymysql.install_as_MySQLdb()\n",
    "engine = create_engine(connstr) \n",
    "conn = engine.connect() \n",
    "dfcats = pd.read_sql(\"SELECT * FROM ExpenseCategories\",con=conn)  \n",
    "conn.close()\n",
    "dfcats"
   ]
  },
  {
   "cell_type": "code",
   "execution_count": null,
   "metadata": {},
   "outputs": [],
   "source": [
    "engine = create_engine(connstr) \n",
    "conn = engine.connect() \n",
    "dfcats = pd.read_sql(\"SELECT EC_ID, EC_Name, EC_PatternMapper FROM ExpenseCategories WHERE EC_PatternMapper IS NOT NULL AND EC_PatternMapper <> '' \",con=conn)  \n",
    "conn.close()"
   ]
  },
  {
   "cell_type": "code",
   "execution_count": null,
   "metadata": {},
   "outputs": [],
   "source": [
    "def catReplace(c):\n",
    "    c=str(c) \n",
    "    for i, row in dfcats.iterrows(): \n",
    "        if re.search(row.EC_PatternMapper.upper(),c.upper()):\n",
    "            return row.EC_ID, row.EC_Name          \n",
    "    return 18,'Misc'"
   ]
  },
  {
   "cell_type": "code",
   "execution_count": null,
   "metadata": {
    "scrolled": true
   },
   "outputs": [],
   "source": [
    "print( catReplace('I AM Shampoo')[0]   )"
   ]
  },
  {
   "cell_type": "code",
   "execution_count": null,
   "metadata": {},
   "outputs": [],
   "source": [
    "def processDataDirectory(dir):\n",
    "    files = os.listdir(f'Data/{dir}') \n",
    "    df = pd.DataFrame()\n",
    "    for f in files:\n",
    "        df1 = pd.read_csv(f'Data/{dir}/{f}')\n",
    "        df = pd.concat([df1, df], axis=0, ignore_index=True)   \n",
    "    df = df.rename(columns ={\n",
    "                          'Order Date':'TransDate'\n",
    "                         ,'Transaction Date':'TransDate'\n",
    "                         ,'Item Total':'TransAmt'\n",
    "                         ,'Amount':'TransAmt'\n",
    "                         ,'Category':'TransCat'\n",
    "                         ,'Title':'TransDesc' \n",
    "                         ,'Description':'TransDesc'})  \n",
    "    df.TransDate=pd.to_datetime(df['TransDate']).dt.date\n",
    "    df=df[['TransDate', 'TransDesc', 'TransCat', 'TransAmt']]\n",
    "    df=df.drop_duplicates(subset=['TransDate','TransDesc','TransAmt'], keep=\"first\")\n",
    "    df['TransDesc'] = df['TransDesc'].fillna('')\n",
    "    df['TransAmt'] = df['TransAmt'].apply(lambda x: str(x).replace('$',''))\n",
    "    df['TransAmt'] = df['TransAmt'].astype('float').abs()     \n",
    "    df['TransCat'] = df['TransCat'].apply(lambda c: catReplace(c)[1] ) \n",
    "    df['TransCatId'] = df['TransCat'].apply(lambda c: catReplace(c)[0] )     \n",
    "    df['TransKey'] = df['TransDate'].map(lambda x: str(x)) \n",
    "    df['TransKey'] = df['TransKey'] +'-'+ df['TransAmt'].map(lambda x: str(x)) \n",
    "    df = df.reindex(columns=['TransDate', 'TransDesc', 'TransCat','TransAmt','TransKey'])  \n",
    "    df.to_csv(f'Data/df_{dir}.csv', index=False) \n",
    "    df.to_json(f'Data/df_{dir}.json', orient='records')\n",
    "    return df\n"
   ]
  },
  {
   "cell_type": "code",
   "execution_count": null,
   "metadata": {},
   "outputs": [],
   "source": [
    "dirs = [f.path.replace('\\\\','/').replace('Data/','') for f in os.scandir('Data') if f.is_dir()]\n",
    "df_tmas = pd.DataFrame();\n",
    "for d in dirs:\n",
    "    df = processDataDirectory(d)\n",
    "    df_tmas = pd.concat([df_tmas, df], axis=0, ignore_index=True) \n",
    "df_tmas"
   ]
  },
  {
   "cell_type": "code",
   "execution_count": null,
   "metadata": {},
   "outputs": [],
   "source": [
    "\n",
    "def terser(conetnt): \n",
    "    words=msg.split(' ') \n",
    "    stop_words = set(stopwords.words('english')) \n",
    "    filtered = []\n",
    "    stemmer = PorterStemmer() \n",
    "    for word in words: \n",
    "        if word not in stop_words and word.isalpha(): \n",
    "            stemmed_word = stemmer.stem(word) \n",
    "            filtered.append(stemmed_word)\n",
    "    return '-'.join(filtered)\n",
    "msg = '''All work and not play makes jack a dull boy. To be or not to be.\n",
    "nobody expects the spanish inquisition'''\n",
    "print(terser(msg))\n"
   ]
  },
  {
   "cell_type": "code",
   "execution_count": null,
   "metadata": {},
   "outputs": [],
   "source": []
  }
 ],
 "metadata": {
  "kernelspec": {
   "display_name": "Python 3",
   "language": "python",
   "name": "python3"
  },
  "language_info": {
   "codemirror_mode": {
    "name": "ipython",
    "version": 3
   },
   "file_extension": ".py",
   "mimetype": "text/x-python",
   "name": "python",
   "nbconvert_exporter": "python",
   "pygments_lexer": "ipython3",
   "version": "3.8.3"
  }
 },
 "nbformat": 4,
 "nbformat_minor": 4
}
